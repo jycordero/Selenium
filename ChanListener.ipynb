{
 "cells": [
  {
   "cell_type": "code",
   "execution_count": 5,
   "metadata": {},
   "outputs": [],
   "source": [
    "#!/usr/bin/env python\n",
    "from selenium import webdriver\n",
    "from selenium.webdriver.common.keys import Keys\n",
    "\n",
    "import time"
   ]
  },
  {
   "cell_type": "code",
   "execution_count": 6,
   "metadata": {},
   "outputs": [],
   "source": [
    "#------------ VARIABLES\n",
    "webpage = 'https://cda.harvard.edu/chaser/mainEntry.do' \n",
    "fields = [\n",
    "            \"target\",\n",
    "            \"obsidRangeList\",\n",
    "            \"Exposure\",\n",
    "            ]\n",
    "IntroValues = {}\n",
    "IntroValues[\"target\"] = \"GW170817\"\n",
    "IntroValues[\"obsidRangeList\"]  =  \"21372\"\n",
    "\n",
    "tableMap[]"
   ]
  },
  {
   "cell_type": "code",
   "execution_count": 7,
   "metadata": {},
   "outputs": [],
   "source": [
    "#--------- FUNCTIONS\n",
    "def FillIntroPage(browser, value):\n",
    "    for name in value.keys():      # Iterates through the fields in the html file with the names in \"value[NAMWE] = VALUE\"\n",
    "        elem = browser.find_element_by_name(name) # finds the field with the NAME \n",
    "        elem.send_keys(value[name])               # passes the VALUE to the field\n",
    "    elem.send_keys(Keys.RETURN)    # Pass the RETURN value\n",
    "    \n",
    "def GetTable(browser,VAR = \"exp\",ID='21372'):\n",
    "    name = VAR+ID\n",
    "    XPATH = \"//*[@id=\\\"\"+name+\"\\\"]\"\n",
    "    return browser.find_element_by_xpath(XPATH).text"
   ]
  },
  {
   "cell_type": "code",
   "execution_count": 8,
   "metadata": {},
   "outputs": [
    {
     "name": "stdout",
     "output_type": "stream",
     "text": [
      "40.0\n"
     ]
    }
   ],
   "source": [
    "#----------- MAIN\n",
    "if __name__ == \"__main__\":#---------\n",
    "    browser = webdriver.Firefox()  # Opens Firefox\n",
    "    browser.get(webpage)           # Opens the webpage indicated above\n",
    "\n",
    "    FillIntroPage(browser, IntroValues)\n",
    "\n",
    "    time.sleep(1)\n",
    "    \n",
    "    tableValue = GetTable(browser)\n",
    "    \n",
    "    print(tableValue)\n",
    "    "
   ]
  },
  {
   "cell_type": "code",
   "execution_count": null,
   "metadata": {},
   "outputs": [],
   "source": []
  },
  {
   "cell_type": "code",
   "execution_count": null,
   "metadata": {},
   "outputs": [],
   "source": []
  }
 ],
 "metadata": {
  "kernelspec": {
   "display_name": "Python 3",
   "language": "python",
   "name": "python3"
  },
  "language_info": {
   "codemirror_mode": {
    "name": "ipython",
    "version": 3
   },
   "file_extension": ".py",
   "mimetype": "text/x-python",
   "name": "python",
   "nbconvert_exporter": "python",
   "pygments_lexer": "ipython3",
   "version": "3.6.5"
  }
 },
 "nbformat": 4,
 "nbformat_minor": 2
}
