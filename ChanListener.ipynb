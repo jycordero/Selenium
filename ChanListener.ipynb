{
 "cells": [
  {
   "cell_type": "code",
   "execution_count": 12,
   "metadata": {},
   "outputs": [],
   "source": [
    "#!/usr/bin/env python\n",
    "from selenium import webdriver\n",
    "from selenium.webdriver.common.keys import Keys\n",
    "from selenium.webdriver.common.by import By\n",
    "\n",
    "from selenium.webdriver.support.ui import WebDriverWait\n",
    "from selenium.webdriver.support import expected_conditions as EC\n",
    "from selenium.common.exceptions import TimeoutException\n",
    "\n",
    "\n",
    "# Import smtplib for the actual sending function\n",
    "# Import the email modules we'll need\n",
    "import smtplib\n",
    "from email.mime.multipart import MIMEMultipart\n",
    "from email.mime.text import MIMEText\n",
    "import email\n",
    "\n",
    "import time"
   ]
  },
  {
   "cell_type": "code",
   "execution_count": 13,
   "metadata": {},
   "outputs": [],
   "source": [
    "#------------ VARIABLES\n",
    "webpage = 'https://cda.harvard.edu/chaser/mainEntry.do' \n",
    "fields = [\n",
    "            \"target\",\n",
    "            \"obsidRangeList\",\n",
    "            \"Exposure\",\n",
    "            ]\n",
    "IntroValues = {}\n",
    "IntroValues[\"target\"] = \"GW170817\"\n",
    "IntroValues[\"obsidRangeList\"]  =  \"21372\"\n",
    "#nextEvt = '22737'\n",
    "#IntroValues[\"obsidRangeList\"]  =  nextEvt\n",
    "\n",
    "\n",
    "delay = 3"
   ]
  },
  {
   "cell_type": "code",
   "execution_count": 14,
   "metadata": {
    "code_folding": []
   },
   "outputs": [],
   "source": [
    "#--------- FUNCTIONS\n",
    "def FillIntroPage(browser, value):\n",
    "    for name in value.keys():      # Iterates through the fields in the html file with the names in \"value[NAMWE] = VALUE\"\n",
    "        elem = browser.find_element_by_name(name) # finds the field with the NAME \n",
    "        elem.send_keys(value[name])               # passes the VALUE to the field\n",
    "    elem.send_keys(Keys.RETURN)    # Pass the RETURN value\n",
    "    \n",
    "def GetXPath(browser,VAR = \"exp\",ID='21372'):\n",
    "    return \"//*[@id=\\\"\"+VAR+ID+\"\\\"]\"\n",
    "\n",
    "def GetTable(browser,XPATH):\n",
    "    return browser.find_element_by_xpath(XPATH).text\n",
    "\n",
    "def ChanListener(webpage,IntroValues,delay):\n",
    "    browser = webdriver.Firefox()  # Opens Firefox\n",
    "    browser.get(webpage)           # Opens the webpage indicated above\n",
    "\n",
    "    FillIntroPage(browser, IntroValues) # Fills in the values according to the dictionary \n",
    "\n",
    "    time.sleep(1) #Waits for the page to load\n",
    "      \n",
    "    wait  = WebDriverWait(browser,delay)# Create Wait onbject linked to the browser, checking evey \"delay\" seconds\n",
    "    XPATH = GetXPath(browser,VAR='exp',ID='21372')\n",
    "    try:\n",
    "        myElem = wait.until(EC.presence_of_element_located((By.XPATH, XPATH)))\n",
    "        Status['notReady']  = False\n",
    "        Status['Target'] = IntroValues['target']\n",
    "        Status['ID']     = IntroValues['obsidRangeList']\n",
    "        \n",
    "        browser.close()\n",
    "        return Status\n",
    "    except TimeoutException:\n",
    "        Status['notReady']  = True\n",
    "        Status['Target'] = None\n",
    "        Status['ID']     = None\n",
    "        \n",
    "        browser.close()\n",
    "        return Status\n",
    "    \n",
    "    \n",
    "    \n",
    "def SendEmail(Status,\n",
    "              mailFrom = 'joseph.cordero1@gmail.com',\n",
    "              mailTo   = 'joseph.cordero1@gmail.com',\n",
    "             ):\n",
    "        \n",
    "    server = smtplib.SMTP_SSL('smtp.gmail.com', 465)\n",
    "    server.login(mailFrom, \"PASSWORD\")\n",
    "    \n",
    "    msg = MIMEMultipart()\n",
    "    msg['From'] = mailFrom\n",
    "    msg['To'] = mailTo\n",
    "    if Status['notReady']:\n",
    "        msg['Subject'] = 'Chandar NOT ready'\n",
    "        msg.attach(MIMEText('Chandra data is NOT ready!\\n'+\n",
    "                       'Somehow code stopped working\\n'+\n",
    "                       '\\n'+\n",
    "                       'You can check status of data here webpage https://cda.harvard.edu/chaser/mainEntry.do \\n' \n",
    "                           )\n",
    "                  )\n",
    "    else:\n",
    "        msg['Subject'] = 'Chandar READY!'\n",
    "        msg.attach(MIMEText('Chandra data is ready!\\n'+\n",
    "                       '---Target:: '+Status['Target']+'\\n'+\n",
    "                       '---ID    :: '+Status['ID']+'\\n'+\n",
    "                       '\\n'+\n",
    "                       'Visit webpage https://cda.harvard.edu/chaser/mainEntry.do \\n' \n",
    "                           )\n",
    "                  )\n",
    "\n",
    "    server.set_debuglevel(True) # show communication with the server\n",
    "    try:\n",
    "        server.sendmail(mailFrom, [mailTo], msg.as_string())\n",
    "\n",
    "    finally:\n",
    "        server.quit()\n"
   ]
  },
  {
   "cell_type": "code",
   "execution_count": 15,
   "metadata": {},
   "outputs": [
    {
     "name": "stdout",
     "output_type": "stream",
     "text": [
      "Still waiting for Chandra ¯\\_(ツ)_/¯ \n"
     ]
    },
    {
     "name": "stderr",
     "output_type": "stream",
     "text": [
      "send: 'mail FROM:<joseph.cordero1@gmail.com> size=501\\r\\n'\n",
      "reply: b'250 2.1.0 OK s20sm350712qts.15 - gsmtp\\r\\n'\n",
      "reply: retcode (250); Msg: b'2.1.0 OK s20sm350712qts.15 - gsmtp'\n",
      "send: 'rcpt TO:<joseph.cordero1@gmail.com>\\r\\n'\n",
      "reply: b'250 2.1.5 OK s20sm350712qts.15 - gsmtp\\r\\n'\n",
      "reply: retcode (250); Msg: b'2.1.5 OK s20sm350712qts.15 - gsmtp'\n",
      "send: 'data\\r\\n'\n",
      "reply: b'354  Go ahead s20sm350712qts.15 - gsmtp\\r\\n'\n",
      "reply: retcode (354); Msg: b'Go ahead s20sm350712qts.15 - gsmtp'\n",
      "data: (354, b'Go ahead s20sm350712qts.15 - gsmtp')\n",
      "send: b'Content-Type: multipart/mixed; boundary=\"===============3369690070227615366==\"\\r\\nMIME-Version: 1.0\\r\\nFrom: joseph.cordero1@gmail.com\\r\\nTo: joseph.cordero1@gmail.com\\r\\nSubject: Chandar READY!\\r\\n\\r\\n--===============3369690070227615366==\\r\\nContent-Type: text/plain; charset=\"us-ascii\"\\r\\nMIME-Version: 1.0\\r\\nContent-Transfer-Encoding: 7bit\\r\\n\\r\\nChandra data is ready!\\r\\n---Target:: GW170817\\r\\n---ID    :: 21372\\r\\n\\r\\nVisit webpage https://cda.harvard.edu/chaser/mainEntry.do \\r\\n\\r\\n--===============3369690070227615366==--\\r\\n.\\r\\n'\n",
      "reply: b'250 2.0.0 OK  1567203910 s20sm350712qts.15 - gsmtp\\r\\n'\n",
      "reply: retcode (250); Msg: b'2.0.0 OK  1567203910 s20sm350712qts.15 - gsmtp'\n",
      "data: (250, b'2.0.0 OK  1567203910 s20sm350712qts.15 - gsmtp')\n",
      "send: 'quit\\r\\n'\n",
      "reply: b'221 2.0.0 closing connection s20sm350712qts.15 - gsmtp\\r\\n'\n",
      "reply: retcode (221); Msg: b'2.0.0 closing connection s20sm350712qts.15 - gsmtp'\n"
     ]
    }
   ],
   "source": [
    "#----------- MAIN\n",
    "if __name__ == \"__main__\":#---------\n",
    "    Status = {'notReady':True}\n",
    "    while Status['notReady']:\n",
    "        Status = ChanListener(webpage, IntroValues, delay)\n",
    "        print(\"Still waiting for Chandra ¯\\_(ツ)_/¯ \")\n",
    "        \n",
    "    SendEmail(Status)\n",
    "        "
   ]
  },
  {
   "cell_type": "code",
   "execution_count": 16,
   "metadata": {},
   "outputs": [
    {
     "data": {
      "text/plain": [
       "{'notReady': False, 'Target': 'GW170817', 'ID': '21372'}"
      ]
     },
     "execution_count": 16,
     "metadata": {},
     "output_type": "execute_result"
    }
   ],
   "source": [
    "Status"
   ]
  },
  {
   "cell_type": "code",
   "execution_count": null,
   "metadata": {},
   "outputs": [],
   "source": []
  }
 ],
 "metadata": {
  "kernelspec": {
   "display_name": "Python 3",
   "language": "python",
   "name": "python3"
  },
  "language_info": {
   "codemirror_mode": {
    "name": "ipython",
    "version": 3
   },
   "file_extension": ".py",
   "mimetype": "text/x-python",
   "name": "python",
   "nbconvert_exporter": "python",
   "pygments_lexer": "ipython3",
   "version": "3.6.5"
  }
 },
 "nbformat": 4,
 "nbformat_minor": 2
}
